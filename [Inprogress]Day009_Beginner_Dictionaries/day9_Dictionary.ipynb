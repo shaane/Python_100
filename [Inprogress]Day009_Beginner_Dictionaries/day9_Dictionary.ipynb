{
 "cells": [
  {
   "cell_type": "markdown",
   "metadata": {},
   "source": [
    "## Create a dictionary\n",
    "\n",
    "例:\n",
    "{\"Apple\": \"A kind of fruit\", \"Banana\":\"A fruit with yellow skin\"}"
   ]
  },
  {
   "cell_type": "code",
   "execution_count": null,
   "metadata": {},
   "outputs": [],
   "source": [
    "Programming_dictionary = {\n",
    "    \"Apple\": \"A kind of fruit\",\n",
    "    \"Banana\":\"A fruit with yellow skin\",\n",
    "}\n",
    "Programing_diction"
   ]
  }
 ],
 "metadata": {
  "kernelspec": {
   "display_name": "Python 3",
   "language": "python",
   "name": "python3"
  },
  "language_info": {
   "codemirror_mode": {
    "name": "ipython",
    "version": 3
   },
   "file_extension": ".py",
   "mimetype": "text/x-python",
   "name": "python",
   "nbconvert_exporter": "python",
   "pygments_lexer": "ipython3",
   "version": "3.7.9"
  }
 },
 "nbformat": 4,
 "nbformat_minor": 4
}
